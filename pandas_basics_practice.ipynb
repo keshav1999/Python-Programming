{
 "cells": [
  {
   "cell_type": "markdown",
   "metadata": {},
   "source": [
    "**Consider the following Python dictionary data and Python list labels:**\n",
    "\n",
    "data = {'birds': ['Cranes', 'Cranes', 'plovers', 'spoonbills', 'spoonbills', 'Cranes', 'plovers', 'Cranes', 'spoonbills', 'spoonbills'],\n",
    "        'age': [3.5, 4, 1.5, np.nan, 6, 3, 5.5, np.nan, 8, 4],\n",
    "        'visits': [2, 4, 3, 4, 3, 4, 2, 2, 3, 2],\n",
    "        'priority': ['yes', 'yes', 'no', 'yes', 'no', 'no', 'no', 'yes', 'no', 'no']}\n",
    "\n",
    "labels = ['a', 'b', 'c', 'd', 'e', 'f', 'g', 'h', 'i', 'j']\n"
   ]
  },
  {
   "cell_type": "markdown",
   "metadata": {},
   "source": [
    "**1. Create a DataFrame birds from this dictionary data which has the index labels.**"
   ]
  },
  {
   "cell_type": "code",
   "execution_count": 53,
   "metadata": {},
   "outputs": [
    {
     "data": {
      "text/html": [
       "<div>\n",
       "<style scoped>\n",
       "    .dataframe tbody tr th:only-of-type {\n",
       "        vertical-align: middle;\n",
       "    }\n",
       "\n",
       "    .dataframe tbody tr th {\n",
       "        vertical-align: top;\n",
       "    }\n",
       "\n",
       "    .dataframe thead th {\n",
       "        text-align: right;\n",
       "    }\n",
       "</style>\n",
       "<table border=\"1\" class=\"dataframe\">\n",
       "  <thead>\n",
       "    <tr style=\"text-align: right;\">\n",
       "      <th></th>\n",
       "      <th>age</th>\n",
       "      <th>birds</th>\n",
       "      <th>priority</th>\n",
       "      <th>visits</th>\n",
       "    </tr>\n",
       "  </thead>\n",
       "  <tbody>\n",
       "    <tr>\n",
       "      <th>a</th>\n",
       "      <td>3.5</td>\n",
       "      <td>Cranes</td>\n",
       "      <td>yes</td>\n",
       "      <td>2</td>\n",
       "    </tr>\n",
       "    <tr>\n",
       "      <th>b</th>\n",
       "      <td>4.0</td>\n",
       "      <td>Cranes</td>\n",
       "      <td>yes</td>\n",
       "      <td>4</td>\n",
       "    </tr>\n",
       "    <tr>\n",
       "      <th>c</th>\n",
       "      <td>1.5</td>\n",
       "      <td>plovers</td>\n",
       "      <td>no</td>\n",
       "      <td>3</td>\n",
       "    </tr>\n",
       "    <tr>\n",
       "      <th>d</th>\n",
       "      <td>NaN</td>\n",
       "      <td>spoonbills</td>\n",
       "      <td>yes</td>\n",
       "      <td>4</td>\n",
       "    </tr>\n",
       "    <tr>\n",
       "      <th>e</th>\n",
       "      <td>6.0</td>\n",
       "      <td>spoonbills</td>\n",
       "      <td>no</td>\n",
       "      <td>3</td>\n",
       "    </tr>\n",
       "    <tr>\n",
       "      <th>f</th>\n",
       "      <td>3.0</td>\n",
       "      <td>Cranes</td>\n",
       "      <td>no</td>\n",
       "      <td>4</td>\n",
       "    </tr>\n",
       "    <tr>\n",
       "      <th>g</th>\n",
       "      <td>5.5</td>\n",
       "      <td>plovers</td>\n",
       "      <td>no</td>\n",
       "      <td>2</td>\n",
       "    </tr>\n",
       "    <tr>\n",
       "      <th>h</th>\n",
       "      <td>NaN</td>\n",
       "      <td>Cranes</td>\n",
       "      <td>yes</td>\n",
       "      <td>2</td>\n",
       "    </tr>\n",
       "    <tr>\n",
       "      <th>i</th>\n",
       "      <td>8.0</td>\n",
       "      <td>spoonbills</td>\n",
       "      <td>no</td>\n",
       "      <td>3</td>\n",
       "    </tr>\n",
       "    <tr>\n",
       "      <th>j</th>\n",
       "      <td>4.0</td>\n",
       "      <td>spoonbills</td>\n",
       "      <td>no</td>\n",
       "      <td>2</td>\n",
       "    </tr>\n",
       "  </tbody>\n",
       "</table>\n",
       "</div>"
      ],
      "text/plain": [
       "   age       birds priority  visits\n",
       "a  3.5      Cranes      yes       2\n",
       "b  4.0      Cranes      yes       4\n",
       "c  1.5     plovers       no       3\n",
       "d  NaN  spoonbills      yes       4\n",
       "e  6.0  spoonbills       no       3\n",
       "f  3.0      Cranes       no       4\n",
       "g  5.5     plovers       no       2\n",
       "h  NaN      Cranes      yes       2\n",
       "i  8.0  spoonbills       no       3\n",
       "j  4.0  spoonbills       no       2"
      ]
     },
     "execution_count": 53,
     "metadata": {},
     "output_type": "execute_result"
    }
   ],
   "source": [
    "import pandas as pd\n",
    "import numpy as np\n",
    "birds = pd.DataFrame({'birds': ['Cranes', 'Cranes', 'plovers', 'spoonbills', 'spoonbills', 'Cranes', 'plovers', 'Cranes', 'spoonbills', 'spoonbills'],\n",
    "        'age': [3.5, 4, 1.5, np.nan, 6, 3, 5.5, np.nan, 8, 4],\n",
    "        'visits': [2, 4, 3, 4, 3, 4, 2, 2, 3, 2],\n",
    "        'priority': ['yes', 'yes', 'no', 'yes', 'no', 'no', 'no', 'yes', 'no', 'no']},index = ['a', 'b', 'c', 'd', 'e', 'f', 'g', 'h', 'i', 'j'] )\n",
    "birds"
   ]
  },
  {
   "cell_type": "markdown",
   "metadata": {},
   "source": [
    "**2. Display a summary of the basic information about birds DataFrame and its data.**"
   ]
  },
  {
   "cell_type": "code",
   "execution_count": 54,
   "metadata": {},
   "outputs": [
    {
     "name": "stdout",
     "output_type": "stream",
     "text": [
      "            age     visits\n",
      "count  8.000000  10.000000\n",
      "mean   4.437500   2.900000\n",
      "std    2.007797   0.875595\n",
      "min    1.500000   2.000000\n",
      "25%    3.375000   2.000000\n",
      "50%    4.000000   3.000000\n",
      "75%    5.625000   3.750000\n",
      "max    8.000000   4.000000\n"
     ]
    }
   ],
   "source": [
    "print(birds.describe())"
   ]
  },
  {
   "cell_type": "markdown",
   "metadata": {},
   "source": [
    "**3. Print the first 2 rows of the birds dataframe **"
   ]
  },
  {
   "cell_type": "code",
   "execution_count": 55,
   "metadata": {},
   "outputs": [
    {
     "name": "stdout",
     "output_type": "stream",
     "text": [
      "   age   birds priority  visits\n",
      "a  3.5  Cranes      yes       2\n",
      "b  4.0  Cranes      yes       4\n"
     ]
    }
   ],
   "source": [
    "print(birds.iloc[:2])"
   ]
  },
  {
   "cell_type": "markdown",
   "metadata": {},
   "source": [
    "**4. Print all the rows with only 'birds' and 'age' columns from the dataframe**"
   ]
  },
  {
   "cell_type": "code",
   "execution_count": 56,
   "metadata": {},
   "outputs": [
    {
     "name": "stdout",
     "output_type": "stream",
     "text": [
      "        birds  age\n",
      "a      Cranes  3.5\n",
      "b      Cranes  4.0\n",
      "c     plovers  1.5\n",
      "d  spoonbills  NaN\n",
      "e  spoonbills  6.0\n",
      "f      Cranes  3.0\n",
      "g     plovers  5.5\n",
      "h      Cranes  NaN\n",
      "i  spoonbills  8.0\n",
      "j  spoonbills  4.0\n"
     ]
    }
   ],
   "source": [
    "print(birds[['birds','age']])"
   ]
  },
  {
   "cell_type": "markdown",
   "metadata": {},
   "source": [
    "**5. select [2, 3, 7] rows and in columns ['birds', 'age', 'visits']**"
   ]
  },
  {
   "cell_type": "code",
   "execution_count": 57,
   "metadata": {},
   "outputs": [
    {
     "name": "stdout",
     "output_type": "stream",
     "text": [
      "     birds  age  visits\n",
      "b   Cranes  4.0       4\n",
      "c  plovers  1.5       3\n",
      "g  plovers  5.5       2\n"
     ]
    }
   ],
   "source": [
    "new = birds[['birds','age','visits']].iloc[[1,2,6]]\n",
    "print(new)"
   ]
  },
  {
   "cell_type": "markdown",
   "metadata": {},
   "source": [
    "**6. select the rows where the number of visits is less than 4**"
   ]
  },
  {
   "cell_type": "code",
   "execution_count": 58,
   "metadata": {},
   "outputs": [
    {
     "name": "stdout",
     "output_type": "stream",
     "text": [
      "   age       birds priority  visits\n",
      "a  3.5      Cranes      yes       2\n",
      "c  1.5     plovers       no       3\n",
      "e  6.0  spoonbills       no       3\n",
      "g  5.5     plovers       no       2\n",
      "h  NaN      Cranes      yes       2\n",
      "i  8.0  spoonbills       no       3\n",
      "j  4.0  spoonbills       no       2\n"
     ]
    }
   ],
   "source": [
    "n = birds[birds['visits']<4]\n",
    "print(n)"
   ]
  },
  {
   "cell_type": "markdown",
   "metadata": {},
   "source": [
    "**7. select the rows with columns ['birds', 'visits'] where the age is missing i.e NaN**"
   ]
  },
  {
   "cell_type": "code",
   "execution_count": 59,
   "metadata": {},
   "outputs": [
    {
     "name": "stdout",
     "output_type": "stream",
     "text": [
      "        birds  visits\n",
      "d  spoonbills       4\n",
      "h      Cranes       2\n"
     ]
    }
   ],
   "source": [
    "mis = birds[birds.age.isnull()][['birds','visits']]\n",
    "print(mis) # can't figure out why it's not showing any row values as 2 are with age NaN"
   ]
  },
  {
   "cell_type": "markdown",
   "metadata": {},
   "source": [
    "**8. Select the rows where the birds is a Cranes and the age is less than 4**"
   ]
  },
  {
   "cell_type": "code",
   "execution_count": 60,
   "metadata": {},
   "outputs": [
    {
     "name": "stdout",
     "output_type": "stream",
     "text": [
      "   age   birds priority  visits\n",
      "a  3.5  Cranes      yes       2\n",
      "f  3.0  Cranes       no       4\n"
     ]
    },
    {
     "name": "stderr",
     "output_type": "stream",
     "text": [
      "/usr/local/lib/python3.5/dist-packages/ipykernel_launcher.py:1: UserWarning: Boolean Series key will be reindexed to match DataFrame index.\n",
      "  \"\"\"Entry point for launching an IPython kernel.\n"
     ]
    }
   ],
   "source": [
    "bir = birds[birds['birds']==\"Cranes\"][birds['age']<4]\n",
    "print(bir)"
   ]
  },
  {
   "cell_type": "markdown",
   "metadata": {},
   "source": [
    "**9. Select the rows the age is between 2 and 4(inclusive)**"
   ]
  },
  {
   "cell_type": "code",
   "execution_count": 61,
   "metadata": {},
   "outputs": [
    {
     "name": "stdout",
     "output_type": "stream",
     "text": [
      "   age       birds priority  visits\n",
      "a  3.5      Cranes      yes       2\n",
      "b  4.0      Cranes      yes       4\n",
      "f  3.0      Cranes       no       4\n",
      "j  4.0  spoonbills       no       2\n"
     ]
    },
    {
     "name": "stderr",
     "output_type": "stream",
     "text": [
      "/usr/local/lib/python3.5/dist-packages/ipykernel_launcher.py:1: UserWarning: Boolean Series key will be reindexed to match DataFrame index.\n",
      "  \"\"\"Entry point for launching an IPython kernel.\n"
     ]
    }
   ],
   "source": [
    "br = birds[birds['age']>=2][birds['age']<=4]\n",
    "print(br)"
   ]
  },
  {
   "cell_type": "markdown",
   "metadata": {},
   "source": [
    "**10. Find the total number of visits of the bird Cranes**"
   ]
  },
  {
   "cell_type": "code",
   "execution_count": 62,
   "metadata": {},
   "outputs": [
    {
     "name": "stdout",
     "output_type": "stream",
     "text": [
      "12\n"
     ]
    }
   ],
   "source": [
    "su = birds['visits'][birds['birds']=='Cranes'].sum()\n",
    "print(su)"
   ]
  },
  {
   "cell_type": "markdown",
   "metadata": {},
   "source": [
    "**11. Calculate the mean age for each different birds in dataframe.**"
   ]
  },
  {
   "cell_type": "code",
   "execution_count": 63,
   "metadata": {},
   "outputs": [
    {
     "name": "stdout",
     "output_type": "stream",
     "text": [
      "[3.5, 3.5, 6.0]\n"
     ]
    }
   ],
   "source": [
    "b = birds.birds.unique()\n",
    "l = []\n",
    "for i in b:\n",
    "    l.append((birds['age'][birds['birds']==i]).mean())\n",
    "print(l)"
   ]
  },
  {
   "cell_type": "markdown",
   "metadata": {},
   "source": [
    "**12. Append a new row 'k' to dataframe with your choice of values for each column. Then delete that row to return the original DataFrame.**"
   ]
  },
  {
   "cell_type": "code",
   "execution_count": null,
   "metadata": {},
   "outputs": [],
   "source": []
  },
  {
   "cell_type": "code",
   "execution_count": 64,
   "metadata": {},
   "outputs": [
    {
     "name": "stdout",
     "output_type": "stream",
     "text": [
      "   age       birds priority  visits\n",
      "a  3.5      Cranes      yes       2\n",
      "b  4.0      Cranes      yes       4\n",
      "c  1.5     plovers       no       3\n",
      "d  NaN  spoonbills      yes       4\n",
      "e  6.0  spoonbills       no       3\n",
      "f  3.0      Cranes       no       4\n",
      "g  5.5     plovers       no       2\n",
      "h  NaN      Cranes      yes       2\n",
      "i  8.0  spoonbills       no       3\n",
      "j  4.0  spoonbills       no       2\n",
      "k  3.0        crow      yes       3\n"
     ]
    }
   ],
   "source": [
    "k = pd.DataFrame({'birds':['crow'],'age':[3],'visits':[3],'priority':['yes']},index=['k'])\n",
    "birds = pd.concat([birds,k])\n",
    "print(birds)\n"
   ]
  },
  {
   "cell_type": "code",
   "execution_count": 65,
   "metadata": {},
   "outputs": [
    {
     "name": "stdout",
     "output_type": "stream",
     "text": [
      "   age       birds priority  visits\n",
      "a  3.5      Cranes      yes       2\n",
      "b  4.0      Cranes      yes       4\n",
      "c  1.5     plovers       no       3\n",
      "d  NaN  spoonbills      yes       4\n",
      "e  6.0  spoonbills       no       3\n",
      "f  3.0      Cranes       no       4\n",
      "g  5.5     plovers       no       2\n",
      "h  NaN      Cranes      yes       2\n",
      "i  8.0  spoonbills       no       3\n",
      "j  4.0  spoonbills       no       2\n"
     ]
    }
   ],
   "source": [
    "birds.drop(birds.index[-1],inplace = True)\n",
    "print(birds)"
   ]
  },
  {
   "cell_type": "markdown",
   "metadata": {},
   "source": [
    "**13. Find the number of each type of birds in dataframe (Counts)**"
   ]
  },
  {
   "cell_type": "code",
   "execution_count": 66,
   "metadata": {},
   "outputs": [
    {
     "name": "stdout",
     "output_type": "stream",
     "text": [
      "spoonbills    4\n",
      "Cranes        4\n",
      "plovers       2\n",
      "Name: birds, dtype: int64\n"
     ]
    }
   ],
   "source": [
    "\n",
    "count = birds['birds'].value_counts()\n",
    "print(count)"
   ]
  },
  {
   "cell_type": "markdown",
   "metadata": {},
   "source": [
    "**14. Sort dataframe (birds) first by the values in the 'age' in decending order, then by the value in the 'visits' column in ascending order.**"
   ]
  },
  {
   "cell_type": "code",
   "execution_count": 67,
   "metadata": {},
   "outputs": [
    {
     "name": "stdout",
     "output_type": "stream",
     "text": [
      "   age       birds priority  visits\n",
      "i  8.0  spoonbills       no       3\n",
      "e  6.0  spoonbills       no       3\n",
      "g  5.5     plovers       no       2\n",
      "b  4.0      Cranes      yes       4\n",
      "j  4.0  spoonbills       no       2\n",
      "a  3.5      Cranes      yes       2\n",
      "f  3.0      Cranes       no       4\n",
      "c  1.5     plovers       no       3\n",
      "d  NaN  spoonbills      yes       4\n",
      "h  NaN      Cranes      yes       2\n",
      "   age       birds priority  visits\n",
      "g  5.5     plovers       no       2\n",
      "j  4.0  spoonbills       no       2\n",
      "a  3.5      Cranes      yes       2\n",
      "h  NaN      Cranes      yes       2\n",
      "i  8.0  spoonbills       no       3\n",
      "e  6.0  spoonbills       no       3\n",
      "c  1.5     plovers       no       3\n",
      "b  4.0      Cranes      yes       4\n",
      "f  3.0      Cranes       no       4\n",
      "d  NaN  spoonbills      yes       4\n"
     ]
    }
   ],
   "source": [
    "birds=birds.sort_values(by = ['age'],ascending=False)\n",
    "print(birds)\n",
    "birds=birds.sort_values(by=['visits'])\n",
    "print(birds)"
   ]
  },
  {
   "cell_type": "markdown",
   "metadata": {},
   "source": [
    "**15. Replace the priority column values with'yes' should be 1 and 'no' should be 0**"
   ]
  },
  {
   "cell_type": "code",
   "execution_count": 68,
   "metadata": {},
   "outputs": [
    {
     "name": "stdout",
     "output_type": "stream",
     "text": [
      "   age       birds  priority  visits\n",
      "g  5.5     plovers         0       2\n",
      "j  4.0  spoonbills         0       2\n",
      "a  3.5      Cranes         1       2\n",
      "h  NaN      Cranes         1       2\n",
      "i  8.0  spoonbills         0       3\n",
      "e  6.0  spoonbills         0       3\n",
      "c  1.5     plovers         0       3\n",
      "b  4.0      Cranes         1       4\n",
      "f  3.0      Cranes         0       4\n",
      "d  NaN  spoonbills         1       4\n"
     ]
    }
   ],
   "source": [
    "birds = birds.replace('yes',1)\n",
    "birds = birds.replace('no',0)\n",
    "print(birds)"
   ]
  },
  {
   "cell_type": "markdown",
   "metadata": {},
   "source": [
    "**16. In the 'birds' column, change the 'Cranes' entries to 'trumpeters'.**"
   ]
  },
  {
   "cell_type": "code",
   "execution_count": 69,
   "metadata": {},
   "outputs": [
    {
     "name": "stdout",
     "output_type": "stream",
     "text": [
      "   age       birds  priority  visits\n",
      "g  5.5     plovers         0       2\n",
      "j  4.0  spoonbills         0       2\n",
      "a  3.5  trumpeters         1       2\n",
      "h  NaN  trumpeters         1       2\n",
      "i  8.0  spoonbills         0       3\n",
      "e  6.0  spoonbills         0       3\n",
      "c  1.5     plovers         0       3\n",
      "b  4.0  trumpeters         1       4\n",
      "f  3.0  trumpeters         0       4\n",
      "d  NaN  spoonbills         1       4\n"
     ]
    }
   ],
   "source": [
    "birds = birds.replace('Cranes','trumpeters')\n",
    "print(birds)"
   ]
  },
  {
   "cell_type": "code",
   "execution_count": null,
   "metadata": {},
   "outputs": [],
   "source": []
  }
 ],
 "metadata": {
  "kernelspec": {
   "display_name": "Python 3",
   "language": "python",
   "name": "python3"
  },
  "language_info": {
   "codemirror_mode": {
    "name": "ipython",
    "version": 3
   },
   "file_extension": ".py",
   "mimetype": "text/x-python",
   "name": "python",
   "nbconvert_exporter": "python",
   "pygments_lexer": "ipython3",
   "version": "3.5.2+"
  }
 },
 "nbformat": 4,
 "nbformat_minor": 2
}
