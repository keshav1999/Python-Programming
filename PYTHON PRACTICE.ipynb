{
 "cells": [
  {
   "cell_type": "code",
   "execution_count": 5,
   "metadata": {},
   "outputs": [],
   "source": [
    "# ASSIGNMENT PYTHON PRACTICE #"
   ]
  },
  {
   "cell_type": "code",
   "execution_count": 6,
   "metadata": {},
   "outputs": [
    {
     "name": "stdout",
     "output_type": "stream",
     "text": [
      "Enter the number5\n",
      "0\n",
      "5\n",
      "10\n",
      "15\n",
      "20\n",
      "25\n",
      "30\n",
      "35\n",
      "40\n",
      "45\n",
      "50\n"
     ]
    }
   ],
   "source": [
    "''' 1. Write a function that inputs a number and prints the multiplication table of that number '''\n",
    "\n",
    "\n",
    "\n",
    "NUM = int(input(\"Enter the number\"))\n",
    "for i in range(11):\n",
    "    p = i*NUM\n",
    "    print(p)"
   ]
  },
  {
   "cell_type": "code",
   "execution_count": 7,
   "metadata": {},
   "outputs": [
    {
     "name": "stdout",
     "output_type": "stream",
     "text": [
      "1 3\n",
      "3 5\n",
      "5 7\n",
      "11 13\n",
      "17 19\n",
      "29 31\n",
      "41 43\n",
      "59 61\n",
      "71 73\n",
      "101 103\n",
      "107 109\n",
      "137 139\n",
      "149 151\n",
      "179 181\n",
      "191 193\n",
      "197 199\n",
      "227 229\n",
      "239 241\n",
      "269 271\n",
      "281 283\n",
      "311 313\n",
      "347 349\n",
      "419 421\n",
      "431 433\n",
      "461 463\n",
      "521 523\n",
      "569 571\n",
      "599 601\n",
      "617 619\n",
      "641 643\n",
      "659 661\n",
      "809 811\n",
      "821 823\n",
      "827 829\n",
      "857 859\n",
      "881 883\n"
     ]
    }
   ],
   "source": [
    "\"\"\" 2. Write a program to print twin primes less than 1000. If two consecutive odd numbers are\n",
    "both prime then they are known as twin primes\"\"\"\n",
    "\n",
    "\n",
    "\n",
    "def prime(num):\n",
    "    Flag = True\n",
    "    for i in range(2,num):\n",
    "        if num%i==0:\n",
    "            Flag = False\n",
    "            break\n",
    "    return Flag\n",
    "        \n",
    "    \n",
    "for i in range(1000):\n",
    "    if(i%2!=0):\n",
    "        if prime(i)==True and prime(i+2)==True:\n",
    "            print(i,i+2)"
   ]
  },
  {
   "cell_type": "code",
   "execution_count": 14,
   "metadata": {},
   "outputs": [
    {
     "name": "stdout",
     "output_type": "stream",
     "text": [
      "Enter the number56\n",
      "2\n",
      "2\n",
      "2\n",
      "7\n"
     ]
    }
   ],
   "source": [
    "# 3. Write a program to find out the prime factors of a number. Example: prime factors of 56 -2,2,2,7\n",
    "\n",
    "\n",
    "\n",
    "Number = int(input(\"Enter the number\"))\n",
    "Num = Number\n",
    "i=2\n",
    "while(i<=(Num//2)):\n",
    "    if(Number%i==0):\n",
    "        Number = Number//i\n",
    "        print(i)\n",
    "    else:\n",
    "        i = i + 1\n",
    "    "
   ]
  },
  {
   "cell_type": "code",
   "execution_count": 18,
   "metadata": {},
   "outputs": [
    {
     "name": "stdout",
     "output_type": "stream",
     "text": [
      "Enter value of n10\n",
      "Enter the value of r4\n",
      "The value of permutation is 5040\n",
      "The value of combination is 210\n"
     ]
    }
   ],
   "source": [
    "''' 4. Write a program to implement these formulae of permutations and combinations.\n",
    "Number of permutations of n objects taken r at a time: p(n, r) = n! / (n-r)!. Number of\n",
    "combinations of n objects taken r at a time is: c(n, r) = n! / (r!*(n-r)!) = p(n,r) / r!'''\n",
    "\n",
    "\n",
    "\n",
    "\n",
    "N = int(input(\"Enter value of n\"))\n",
    "R = int(input((\"Enter the value of r\")))\n",
    "\n",
    "def factorial(n):\n",
    "    if n==1:\n",
    "        return 1  \n",
    "    else:\n",
    "        return n*factorial(n-1)\n",
    "def Pnr(n,r):\n",
    "    return (factorial(n)//factorial(n-r))\n",
    "def Cnr(n,r):\n",
    "    return(factorial(n)//(factorial(r)*factorial(n-r)))\n",
    "\n",
    "\n",
    "print(\"The value of permutation is {}\".format(Pnr(N,R)))\n",
    "print(\"The value of combination is {}\".format(Cnr(N,R)))\n",
    "    \n"
   ]
  },
  {
   "cell_type": "code",
   "execution_count": 30,
   "metadata": {},
   "outputs": [
    {
     "name": "stdout",
     "output_type": "stream",
     "text": [
      "Enter the value of decimal number10\n",
      "1010\n"
     ]
    }
   ],
   "source": [
    "''' 5. Write a function that converts a decimal number to binary number '''\n",
    "\n",
    "\n",
    "\n",
    "\n",
    "Num = int(input(\"Enter the value of decimal number\"))\n",
    "lists = []\n",
    "while(Num!=0):\n",
    "    if Num%2==0:\n",
    "        lists.append(0)\n",
    "    else:\n",
    "        lists.append(1)\n",
    "    Num = Num//2\n",
    "lists.reverse()\n",
    "def binary(lis):\n",
    "    n=0\n",
    "    for i in lis:\n",
    "        n=n*10+i\n",
    "    print(n)\n",
    "binary(lists)\n",
    "        "
   ]
  },
  {
   "cell_type": "code",
   "execution_count": 43,
   "metadata": {},
   "outputs": [
    {
     "name": "stdout",
     "output_type": "stream",
     "text": [
      "Enter the Number  500\n",
      "1\n",
      "153\n",
      "370\n",
      "371\n",
      "407\n"
     ]
    }
   ],
   "source": [
    "''' 6. Write a function cubesum() that accepts an integer and returns the sum of the cubes of\n",
    "individual digits of that number. Use this function to make functions PrintArmstrong() and\n",
    "isArmstrong() to print Armstrong numbers and to find whether is an Armstrong number.'''\n",
    "\n",
    "N = int(input(\"Enter the Range  \"))\n",
    "\n",
    "def cubesum(num):\n",
    "    s = 0\n",
    "    while(num!=0):\n",
    "        s = s + (num%10)**3\n",
    "        num = num//10\n",
    "    return s\n",
    "def isArmstrong(nu):\n",
    "    if nu==cubesum(nu):\n",
    "        return True\n",
    "    else: \n",
    "        return False\n",
    "def PrintArmsrong(n):\n",
    "    for i in range(1,n+1):\n",
    "        if(isArmstrong(i)):\n",
    "            print(i)\n",
    "PrintArmsrong(N)\n",
    "    "
   ]
  },
  {
   "cell_type": "code",
   "execution_count": 48,
   "metadata": {},
   "outputs": [
    {
     "name": "stdout",
     "output_type": "stream",
     "text": [
      "Enter the number 89\n",
      "72\n"
     ]
    }
   ],
   "source": [
    "''' 7. Write a function prodDigits() that inputs a number and returns the product of digits of that\n",
    "number.'''\n",
    "\n",
    "\n",
    "\n",
    "\n",
    "def proDigits():\n",
    "    N = int(input(\"Enter the number \"))\n",
    "    prod = 1\n",
    "    while N!=0:\n",
    "        prod*= N%10\n",
    "        N=N//10\n",
    "    print(prod)\n",
    "proDigits()"
   ]
  },
  {
   "cell_type": "code",
   "execution_count": 57,
   "metadata": {},
   "outputs": [
    {
     "name": "stdout",
     "output_type": "stream",
     "text": [
      "Enter a number341\n",
      "MDR : 2 and MPersistence : 2\n"
     ]
    }
   ],
   "source": [
    "''' 8. If all digits of a number n are multiplied by each other repeating with the product, the one\n",
    "digit number obtained at last is called the multiplicative digital root of n. The number of\n",
    "times digits need to be multiplied to reach one digit is called the multiplicative\n",
    "persistance of n.\n",
    "Example: 86 -> 48 -> 32 -> 6 (MDR 6, MPersistence 3)\n",
    "341 -> 12->2 (MDR 2, MPersistence 2)\n",
    "Using the function prodDigits() of previous exercise write functions MDR() and\n",
    "MPersistence() that input a number and return its multiplicative digital root and\n",
    "multiplicative persistence respectively'''\n",
    "\n",
    "N = int(input(\"Enter a number\"))\n",
    "def proDigits(N):\n",
    "    prod = 1\n",
    "    while N!=0:\n",
    "        prod*= N%10\n",
    "        N=N//10\n",
    "    return prod\n",
    "\n",
    "\n",
    "\n",
    "def MDR(n):\n",
    "    i=0\n",
    "    while n//10!=0:\n",
    "        n = proDigits(n)\n",
    "        i+=1\n",
    "    return (n,i)\n",
    "ANS = MDR(N)\n",
    "print(\"MDR : {} and MPersistence : {}\".format(ANS[0],ANS[1]))\n"
   ]
  },
  {
   "cell_type": "code",
   "execution_count": 60,
   "metadata": {},
   "outputs": [
    {
     "name": "stdout",
     "output_type": "stream",
     "text": [
      "Enter a number36\n",
      "[1, 2, 3, 4, 6, 9, 12, 18]\n"
     ]
    }
   ],
   "source": [
    "''' 9. Write a function sumPdivisors() that finds the sum of proper divisors of a number. Proper\n",
    "divisors of a number are those numbers by which the number is divisible, except the\n",
    "number itself. For example proper divisors of 36 are 1, 2, 3, 4, 6, 9, 18'''\n",
    "\n",
    "\n",
    "\n",
    "N = int(input(\"Enter a number\"))\n",
    "divisor = []\n",
    "def sumPdivisors(N):\n",
    "    for i in range(1,N//2 + 2):\n",
    "        if N%i==0:\n",
    "            divisor.append(i)\n",
    "sumPdivisors(N)\n",
    "print(divisor)"
   ]
  },
  {
   "cell_type": "code",
   "execution_count": 61,
   "metadata": {},
   "outputs": [
    {
     "name": "stdout",
     "output_type": "stream",
     "text": [
      "Enter start 1\n",
      "Enter end50\n",
      "1\n",
      "6\n",
      "28\n"
     ]
    }
   ],
   "source": [
    "''' 10. A number is called perfect if the sum of proper divisors of that number is equal to the\n",
    "number. For example 28 is perfect number, since 1+2+4+7+14=28. Write a program to\n",
    "print all the perfect numbers in a given range'''\n",
    "\n",
    "\n",
    "s = int(input(\"Enter start \"))\n",
    "e = int(input(\"Enter end\"))\n",
    "def sumPdivisors(N):\n",
    "    divisor = []\n",
    "    for i in range(1,N//2 + 2):\n",
    "        if N%i==0:\n",
    "            divisor.append(i)\n",
    "    return divisor\n",
    "def perfect(start,end):\n",
    "    for i in range(start,end+1):\n",
    "        if sum(sumPdivisors(i))==i:\n",
    "            print(i)\n",
    "perfect(s,e)"
   ]
  },
  {
   "cell_type": "code",
   "execution_count": 64,
   "metadata": {},
   "outputs": [
    {
     "name": "stdout",
     "output_type": "stream",
     "text": [
      "Enter start 100\n",
      "Enter end300\n",
      "220 284\n",
      "284 220\n"
     ]
    }
   ],
   "source": [
    "''' 11. Two different numbers are called amicable numbers if the sum of the proper divisors of\n",
    "each is equal to the other number. For example 220 and 284 are amicable numbers.\n",
    "\n",
    "Sum of proper divisors of 220 = 1+2+4+5+10+11+20+22+44+55+110 = 284\n",
    "Sum of proper divisors of 284 = 1+2+4+71+142 = 220\n",
    "Write a function to print pairs of amicable numbers in a range'''\n",
    "\n",
    "\n",
    "s = int(input(\"Enter start \"))\n",
    "e = int(input(\"Enter end\"))\n",
    "def sumPdivisors(N):\n",
    "    divisor = []\n",
    "    for i in range(1,N//2 + 2):\n",
    "        if N%i==0:\n",
    "            divisor.append(i)\n",
    "    return sum(divisor)\n",
    "def amicable(start,end):\n",
    "    for i in range(start,end+1):\n",
    "        n = sumPdivisors(i)\n",
    "        l = sumPdivisors(n)\n",
    "        if(i==l):\n",
    "            print(i,n)\n",
    "amicable(s,e)\n"
   ]
  },
  {
   "cell_type": "code",
   "execution_count": 65,
   "metadata": {},
   "outputs": [
    {
     "name": "stdout",
     "output_type": "stream",
     "text": [
      "[1, 3, 5, 7, 9, 11, 13, 15, 17, 19, 21, 23, 25, 27, 29, 31, 33, 35, 37, 39, 41, 43, 45, 47, 49, 51, 53, 55, 57, 59, 61, 63, 65, 67, 69, 71, 73, 75, 77, 79, 81, 83, 85, 87, 89, 91, 93, 95, 97, 99]\n"
     ]
    }
   ],
   "source": [
    "''' 12. Write a program which can filter odd numbers in a list by using filter function'''\n",
    "\n",
    "lis = list(range(100))\n",
    "\n",
    "new_lis = list(filter(lambda x:(x%2!=0),lis))\n",
    "print(new_lis)\n"
   ]
  },
  {
   "cell_type": "code",
   "execution_count": 67,
   "metadata": {},
   "outputs": [
    {
     "name": "stdout",
     "output_type": "stream",
     "text": [
      "[1, 8, 27, 64, 125, 216, 343, 512, 729]\n"
     ]
    }
   ],
   "source": [
    "''' 13. Write a program which can map() to make a list whose elements are cube of elements in\n",
    "a given list'''\n",
    "\n",
    "\n",
    "lis = [1,2,3,4,5,6,7,8,9]\n",
    "def cube(n):\n",
    "    return n**3\n",
    "cube0 = list(map(cube,lis))\n",
    "print(cube0)"
   ]
  },
  {
   "cell_type": "code",
   "execution_count": 69,
   "metadata": {},
   "outputs": [
    {
     "name": "stdout",
     "output_type": "stream",
     "text": [
      "[2, 4, 6, 8]\n",
      "[8, 64, 216, 512]\n"
     ]
    }
   ],
   "source": [
    "'''14. Write a program which can map() and filter() to make a list whose elements are cube of\n",
    "even number in a given list'''\n",
    "\n",
    "\n",
    "lis = [1,2,3,4,5,6,7,8,9]\n",
    "def cube(n):\n",
    "    if n%2==0:\n",
    "        return n**3\n",
    "cube0 = list(filter(cube,lis))\n",
    "cube1 = list(map(cube,cube0))\n",
    "print(cube0)\n",
    "print(cube1)\n",
    "\n"
   ]
  },
  {
   "cell_type": "code",
   "execution_count": null,
   "metadata": {},
   "outputs": [],
   "source": []
  }
 ],
 "metadata": {
  "kernelspec": {
   "display_name": "Python 3",
   "language": "python",
   "name": "python3"
  },
  "language_info": {
   "codemirror_mode": {
    "name": "ipython",
    "version": 3
   },
   "file_extension": ".py",
   "mimetype": "text/x-python",
   "name": "python",
   "nbconvert_exporter": "python",
   "pygments_lexer": "ipython3",
   "version": "3.5.2+"
  }
 },
 "nbformat": 4,
 "nbformat_minor": 2
}
